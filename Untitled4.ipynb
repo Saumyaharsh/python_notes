{
  "nbformat": 4,
  "nbformat_minor": 0,
  "metadata": {
    "colab": {
      "provenance": [],
      "authorship_tag": "ABX9TyPmaSiuJX4EAbtWXd9vtVOW",
      "include_colab_link": true
    },
    "kernelspec": {
      "name": "python3",
      "display_name": "Python 3"
    },
    "language_info": {
      "name": "python"
    }
  },
  "cells": [
    {
      "cell_type": "markdown",
      "metadata": {
        "id": "view-in-github",
        "colab_type": "text"
      },
      "source": [
        "<a href=\"https://colab.research.google.com/github/Saumyaharsh/python_notes/blob/main/Untitled4.ipynb\" target=\"_parent\"><img src=\"https://colab.research.google.com/assets/colab-badge.svg\" alt=\"Open In Colab\"/></a>"
      ]
    },
    {
      "cell_type": "code",
      "execution_count": 28,
      "metadata": {
        "colab": {
          "base_uri": "https://localhost:8080/"
        },
        "id": "iLwgICTIZjXP",
        "outputId": "d2e9f794-d423-49e2-ef3d-87973a690546"
      },
      "outputs": [
        {
          "output_type": "stream",
          "name": "stdout",
          "text": [
            "(50, 40, 30, 20, 10)\n"
          ]
        }
      ],
      "source": [
        "tup = (10,20,30,40,50)\n",
        "print(tup[::-1])"
      ]
    },
    {
      "cell_type": "code",
      "source": [
        "tuple1 = (\"Orange\",[10,20,30],(5,15,25))\n",
        "print(tuple1[1][1])"
      ],
      "metadata": {
        "colab": {
          "base_uri": "https://localhost:8080/"
        },
        "id": "G70YZi9qf8d9",
        "outputId": "29a33094-4d0d-4cf1-e8a3-272cabe6e1a1"
      },
      "execution_count": 23,
      "outputs": [
        {
          "output_type": "stream",
          "name": "stdout",
          "text": [
            "20\n"
          ]
        }
      ]
    },
    {
      "cell_type": "code",
      "source": [
        "tup = (50,)\n",
        "print(type(tup))"
      ],
      "metadata": {
        "colab": {
          "base_uri": "https://localhost:8080/"
        },
        "id": "WfWnE76qhIyv",
        "outputId": "06ca0c8d-0a1c-4c84-87e8-0d944d7e0ff6"
      },
      "execution_count": 24,
      "outputs": [
        {
          "output_type": "stream",
          "name": "stdout",
          "text": [
            "<class 'tuple'>\n"
          ]
        }
      ]
    },
    {
      "cell_type": "code",
      "source": [
        "tup = (10,20,30,40)\n",
        "a = tup [0]\n",
        "print (a)\n",
        "b = tup [1]\n",
        "c = tup[2]\n",
        "d = tup[3]\n",
        "print(b)\n",
        "print(c)\n",
        "print(d)"
      ],
      "metadata": {
        "colab": {
          "base_uri": "https://localhost:8080/"
        },
        "id": "64mzYtO9hZTF",
        "outputId": "12a82601-3449-4f9b-b06a-b79eb45c172e"
      },
      "execution_count": 30,
      "outputs": [
        {
          "output_type": "stream",
          "name": "stdout",
          "text": [
            "10\n",
            "20\n",
            "30\n",
            "40\n"
          ]
        }
      ]
    },
    {
      "cell_type": "code",
      "source": [
        "tuple1 = (11,22)\n",
        "tuple2 = (99,98)\n",
        "tuple1, tuple2 = tuple2, tuple1\n",
        "print(tuple1)\n",
        "print(tuple2)"
      ],
      "metadata": {
        "colab": {
          "base_uri": "https://localhost:8080/"
        },
        "id": "XRvBtkC8jfK4",
        "outputId": "295a6c4b-f133-4ea5-c525-ce82cf8c3cea"
      },
      "execution_count": 32,
      "outputs": [
        {
          "output_type": "stream",
          "name": "stdout",
          "text": [
            "(99, 98)\n",
            "(11, 22)\n"
          ]
        }
      ]
    },
    {
      "cell_type": "code",
      "source": [
        "tuple1 = (11,22,33,44,55,66)\n",
        "tuple2 = tuple1[-3:-1:1]\n",
        "print(tuple2)"
      ],
      "metadata": {
        "colab": {
          "base_uri": "https://localhost:8080/"
        },
        "id": "vDaWCZL7kbs0",
        "outputId": "a1ea289d-e648-4755-b3a9-4bbedfb23990"
      },
      "execution_count": 38,
      "outputs": [
        {
          "output_type": "stream",
          "name": "stdout",
          "text": [
            "(44, 55)\n"
          ]
        }
      ]
    },
    {
      "cell_type": "code",
      "source": [
        "tuple = (11,[22,33],44,55)\n",
        "tuple[1][0] = 222\n",
        "print(tuple)"
      ],
      "metadata": {
        "colab": {
          "base_uri": "https://localhost:8080/"
        },
        "id": "-ad3iKSomoCz",
        "outputId": "8229bdb6-3535-4a2f-ab9d-d40a49f6dc6e"
      },
      "execution_count": 40,
      "outputs": [
        {
          "output_type": "stream",
          "name": "stdout",
          "text": [
            "(11, [222, 33], 44, 55)\n"
          ]
        }
      ]
    },
    {
      "cell_type": "code",
      "source": [
        "tuple1 = (50,10,60,70,50)\n",
        "print(tuple1.count(50))\n"
      ],
      "metadata": {
        "colab": {
          "base_uri": "https://localhost:8080/"
        },
        "id": "Zk8WTen3m_zZ",
        "outputId": "b02d24b6-d248-4f5e-f9cc-f1324b36f9c4"
      },
      "execution_count": 42,
      "outputs": [
        {
          "output_type": "stream",
          "name": "stdout",
          "text": [
            "2\n"
          ]
        }
      ]
    },
    {
      "cell_type": "code",
      "source": [
        "tuple1 = (45,45,45,45)\n",
        "l = len(tuple1)\n",
        "a = tuple1[0]\n",
        "b = tuple1.count(a)\n",
        "if (b==l):\n",
        "  print(\"TRUE\")\n",
        "else:\n",
        "  print(\"FALSE\")"
      ],
      "metadata": {
        "colab": {
          "base_uri": "https://localhost:8080/"
        },
        "id": "y_60QE8gn8RX",
        "outputId": "2493816b-52bc-4fca-d054-67337a9be4a1"
      },
      "execution_count": 47,
      "outputs": [
        {
          "output_type": "stream",
          "name": "stdout",
          "text": [
            "TRUE\n"
          ]
        }
      ]
    }
  ]
}