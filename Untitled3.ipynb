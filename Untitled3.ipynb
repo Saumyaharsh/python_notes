{
  "nbformat": 4,
  "nbformat_minor": 0,
  "metadata": {
    "colab": {
      "provenance": [],
      "authorship_tag": "ABX9TyNyhNvi1Dzs3BHcAnHApmLI",
      "include_colab_link": true
    },
    "kernelspec": {
      "name": "python3",
      "display_name": "Python 3"
    },
    "language_info": {
      "name": "python"
    }
  },
  "cells": [
    {
      "cell_type": "markdown",
      "metadata": {
        "id": "view-in-github",
        "colab_type": "text"
      },
      "source": [
        "<a href=\"https://colab.research.google.com/github/Saumyaharsh/python_notes/blob/main/Untitled3.ipynb\" target=\"_parent\"><img src=\"https://colab.research.google.com/assets/colab-badge.svg\" alt=\"Open In Colab\"/></a>"
      ]
    },
    {
      "cell_type": "code",
      "execution_count": 2,
      "metadata": {
        "colab": {
          "base_uri": "https://localhost:8080/"
        },
        "id": "oz7iYU7-AGlX",
        "outputId": "33109d01-2162-492e-ec54-03297347ee4e"
      },
      "outputs": [
        {
          "output_type": "stream",
          "name": "stdout",
          "text": [
            "[94.4, 87.5, 95.2, 66.4, 45.1]\n",
            "<class 'list'>\n",
            "94.4\n",
            "87.5\n",
            "5\n",
            "['karan', 95.4, 'Delhi']\n",
            "['Arjun', 95.4, 'Delhi']\n"
          ]
        }
      ],
      "source": [
        "marks = [94.4,87.5,95.2,66.4,45.1]\n",
        "print(marks)\n",
        "print(type(marks))\n",
        "print(marks[0])\n",
        "print(marks[1])\n",
        "print(len(marks))\n",
        "student = [\"karan\",95.4,\"Delhi\"]\n",
        "print(student)\n",
        "student[0] = \"Arjun\"\n",
        "print(student)"
      ]
    },
    {
      "cell_type": "code",
      "source": [
        "marks = [85,94,76,63,48]\n",
        "print(marks[:5])\n",
        "print(marks[1:])\n",
        "print(marks[3:5])"
      ],
      "metadata": {
        "colab": {
          "base_uri": "https://localhost:8080/"
        },
        "id": "X-J86BUfBhZb",
        "outputId": "80b6aecd-1d2e-4401-c23b-ad06c123672e"
      },
      "execution_count": 6,
      "outputs": [
        {
          "output_type": "stream",
          "name": "stdout",
          "text": [
            "[85, 94, 76, 63, 48]\n",
            "[94, 76, 63, 48]\n",
            "[63, 48]\n"
          ]
        }
      ]
    },
    {
      "cell_type": "code",
      "source": [
        "str = \"hello\"\n",
        "print(str[0])\n",
        "student"
      ],
      "metadata": {
        "colab": {
          "base_uri": "https://localhost:8080/"
        },
        "id": "9Y3mMVW0BCHF",
        "outputId": "50ff213b-7dd7-4b45-c5ae-47295398d0ae"
      },
      "execution_count": 7,
      "outputs": [
        {
          "output_type": "stream",
          "name": "stdout",
          "text": [
            "h\n"
          ]
        },
        {
          "output_type": "execute_result",
          "data": {
            "text/plain": [
              "['Arjun', 95.4, 'Delhi']"
            ]
          },
          "metadata": {},
          "execution_count": 7
        }
      ]
    },
    {
      "cell_type": "code",
      "source": [
        "list = ['a','b', 'd','g']\n",
        "print(list.sort())\n",
        "\n",
        "print(list)\n",
        "list.reverse()\n",
        "print(list)\n"
      ],
      "metadata": {
        "colab": {
          "base_uri": "https://localhost:8080/"
        },
        "id": "vYsiZAiSIXPG",
        "outputId": "bfc02901-2fc3-499a-ad89-b8908e18f7fb"
      },
      "execution_count": 9,
      "outputs": [
        {
          "output_type": "stream",
          "name": "stdout",
          "text": [
            "None\n",
            "['a', 'b', 'd', 'g']\n",
            "['g', 'd', 'b', 'a']\n"
          ]
        }
      ]
    },
    {
      "cell_type": "code",
      "source": [
        "list = [2,1,1,3]\n",
        "print(list)\n",
        "list.insert(1,8)\n",
        "print(list)\n",
        "list.remove(1)\n",
        "print(list)\n",
        "list.pop(2)\n",
        "print(list)"
      ],
      "metadata": {
        "colab": {
          "base_uri": "https://localhost:8080/"
        },
        "id": "ARvpgY2wI658",
        "outputId": "18c03251-0201-49d0-f466-e101c6f7fb7a"
      },
      "execution_count": 12,
      "outputs": [
        {
          "output_type": "stream",
          "name": "stdout",
          "text": [
            "[2, 1, 1, 3]\n",
            "[2, 8, 1, 1, 3]\n",
            "[2, 8, 1, 3]\n",
            "[2, 8, 3]\n"
          ]
        }
      ]
    },
    {
      "cell_type": "code",
      "source": [
        "tup = (2,1,3,1)\n",
        "print(type(tup))\n",
        "print(tup[0])\n",
        "print(tup[1])\n",
        "# Not correct tup[0]= 4\n",
        "# since tuple is an immutable data type"
      ],
      "metadata": {
        "colab": {
          "base_uri": "https://localhost:8080/"
        },
        "id": "wCBlW9ZzKhYb",
        "outputId": "201fe09c-fab6-46f5-ec33-c85eef332457"
      },
      "execution_count": 14,
      "outputs": [
        {
          "output_type": "stream",
          "name": "stdout",
          "text": [
            "<class 'tuple'>\n",
            "2\n",
            "1\n"
          ]
        }
      ]
    },
    {
      "cell_type": "code",
      "source": [
        "tup=()\n",
        "tupl=(1,)\n",
        "print(tupl)\n",
        "print(type(tupl))\n",
        "#only for single valued we add , in multiple valued we can add or cannnot"
      ],
      "metadata": {
        "colab": {
          "base_uri": "https://localhost:8080/"
        },
        "id": "vDJY7bEJKvMT",
        "outputId": "4de76c74-cb1a-4504-fe2d-b08e9a8092d4"
      },
      "execution_count": 17,
      "outputs": [
        {
          "output_type": "stream",
          "name": "stdout",
          "text": [
            "(1,)\n",
            "<class 'tuple'>\n"
          ]
        }
      ]
    },
    {
      "cell_type": "code",
      "source": [
        "tupl = (1)\n",
        "print(tupl)\n",
        "print(type(tupl))"
      ],
      "metadata": {
        "colab": {
          "base_uri": "https://localhost:8080/"
        },
        "id": "mtPvC2jtLfu0",
        "outputId": "6954faf5-11fd-4ab1-c7f0-ffe3f8b699ad"
      },
      "execution_count": 18,
      "outputs": [
        {
          "output_type": "stream",
          "name": "stdout",
          "text": [
            "1\n",
            "<class 'int'>\n"
          ]
        }
      ]
    },
    {
      "cell_type": "code",
      "source": [
        "tup = (1,2,3,4)\n",
        "print(tup[1:3])"
      ],
      "metadata": {
        "colab": {
          "base_uri": "https://localhost:8080/"
        },
        "id": "pF13vDsAL6BT",
        "outputId": "b85440f8-4e0b-4603-bbec-68dcc504606f"
      },
      "execution_count": 19,
      "outputs": [
        {
          "output_type": "stream",
          "name": "stdout",
          "text": [
            "(2, 3)\n"
          ]
        }
      ]
    },
    {
      "cell_type": "code",
      "source": [
        "tup = (2,1,3,1)\n",
        "print(tup.index(1))\n",
        "tup.count(1)"
      ],
      "metadata": {
        "colab": {
          "base_uri": "https://localhost:8080/"
        },
        "id": "7IAjZ68VMXFV",
        "outputId": "86e10868-6db2-46ad-c26f-8cad66b2820f"
      },
      "execution_count": 21,
      "outputs": [
        {
          "output_type": "stream",
          "name": "stdout",
          "text": [
            "1\n"
          ]
        },
        {
          "output_type": "execute_result",
          "data": {
            "text/plain": [
              "2"
            ]
          },
          "metadata": {},
          "execution_count": 21
        }
      ]
    },
    {
      "cell_type": "code",
      "source": [
        "movies = []\n",
        "mov1 = input(\"enter 1st movie:\")\n",
        "mov2 = input(\"enter 2nd movie:\")\n",
        "mov3 = input(\"enter 3rd movie\")\n",
        "movies.append(mov1)\n",
        "movies.append(mov2)\n",
        "movies.append(mov3)\n",
        "print(movies)\n"
      ],
      "metadata": {
        "colab": {
          "base_uri": "https://localhost:8080/"
        },
        "id": "kPHpV-PiMtE7",
        "outputId": "9cee74a2-6289-463f-860e-4c74c5cc40ce"
      },
      "execution_count": 23,
      "outputs": [
        {
          "output_type": "stream",
          "name": "stdout",
          "text": [
            "enter 1st movie:a\n",
            "enter 2nd movie:b\n",
            "enter 3rd moviec\n",
            "['a', 'b', 'c']\n"
          ]
        }
      ]
    },
    {
      "cell_type": "code",
      "source": [
        "movies = []\n",
        "movies.append(input(\"enter 1st movie:\"))\n",
        "movies.append( input(\"enter 2nd movie:\"))\n",
        "movies.append(input(\"enter 3rd movie\"))\n",
        "print(movies)"
      ],
      "metadata": {
        "colab": {
          "base_uri": "https://localhost:8080/"
        },
        "id": "pCiyVnLCOp6t",
        "outputId": "bec26754-b23a-49e7-c5eb-54651e7935ef"
      },
      "execution_count": 24,
      "outputs": [
        {
          "output_type": "stream",
          "name": "stdout",
          "text": [
            "enter 1st movie:a\n",
            "enter 2nd movie:v\n",
            "enter 3rd movieb\n",
            "['a', 'v', 'b']\n"
          ]
        }
      ]
    },
    {
      "cell_type": "code",
      "source": [
        "list1 = [1,2,1]\n",
        "list2 = [1,2,3]\n",
        "copy_list1 = list1.copy()\n",
        "copy_list1.reverse()\n",
        "if(list1==copy_list1):\n",
        "  print(\"PALINDROME\")\n",
        "else:\n",
        "  print(\"NOT PALINDROME\")"
      ],
      "metadata": {
        "colab": {
          "base_uri": "https://localhost:8080/"
        },
        "id": "9TBANKewPqXu",
        "outputId": "9cd307b5-c484-4233-b99f-2b5aa97da868"
      },
      "execution_count": 33,
      "outputs": [
        {
          "output_type": "stream",
          "name": "stdout",
          "text": [
            "NOT PALINDROME\n"
          ]
        }
      ]
    },
    {
      "cell_type": "code",
      "source": [
        "grade = (\"C\",\"D\",\"A\",\"A\",\"B\",\"B\",\"A\")\n",
        "print(grade.count(\"A\"))"
      ],
      "metadata": {
        "colab": {
          "base_uri": "https://localhost:8080/"
        },
        "id": "vOoMIO5MRcTl",
        "outputId": "31b8c5e8-e1e3-4f53-bb50-faa9b02782f3"
      },
      "execution_count": 35,
      "outputs": [
        {
          "output_type": "stream",
          "name": "stdout",
          "text": [
            "3\n"
          ]
        }
      ]
    },
    {
      "cell_type": "code",
      "source": [
        "grade = [\"C\",\"D\",\"A\",\"A\",\"B\",\"B\",\"A\"]\n",
        "grade.sort()\n",
        "print(grade)"
      ],
      "metadata": {
        "colab": {
          "base_uri": "https://localhost:8080/"
        },
        "id": "YorCZBPRR3bD",
        "outputId": "9a6bb12a-0a51-4283-8de2-3bc91c670946"
      },
      "execution_count": 36,
      "outputs": [
        {
          "output_type": "stream",
          "name": "stdout",
          "text": [
            "['A', 'A', 'A', 'B', 'B', 'C', 'D']\n"
          ]
        }
      ]
    },
    {
      "cell_type": "markdown",
      "source": [
        "Tuples are immutable but lists are mutable"
      ],
      "metadata": {
        "id": "RMdK7WLRSb62"
      }
    },
    {
      "cell_type": "code",
      "source": [],
      "metadata": {
        "id": "aOWK0nSRSbDK"
      },
      "execution_count": null,
      "outputs": []
    }
  ]
}